{
  "nbformat": 4,
  "nbformat_minor": 0,
  "metadata": {
    "colab": {
      "provenance": [],
      "toc_visible": true,
      "authorship_tag": "ABX9TyNFdj/RG89L8JWia7xHTftT",
      "include_colab_link": true
    },
    "kernelspec": {
      "name": "python3",
      "display_name": "Python 3"
    },
    "language_info": {
      "name": "python"
    }
  },
  "cells": [
    {
      "cell_type": "markdown",
      "metadata": {
        "id": "view-in-github",
        "colab_type": "text"
      },
      "source": [
        "<a href=\"https://colab.research.google.com/github/ronbalanay/MAT-422/blob/main/MAT422_HW_2_2.ipynb\" target=\"_parent\"><img src=\"https://colab.research.google.com/assets/colab-badge.svg\" alt=\"Open In Colab\"/></a>"
      ]
    },
    {
      "cell_type": "markdown",
      "source": [
        "# 2.2.1 Probability Axioms\n",
        "\n",
        "We will demonstrate the following axioms of probability:\n",
        "\n",
        "1. Probability is between 0 and 1: 0≤P(A)≤1\n",
        "\n",
        "2. The probability of the sample space S is 1: P(S)=1\n",
        "\n",
        "3. For disjoint (mutually exclusive) events A1, A2, … , the sum of probabilities is the sum of individual probabilities.\n",
        "\n",
        "4. For any event A, P(A)+P(A′)=1 (complement rule).\n",
        "\n",
        "5. For any two events A and B, P(A∪B)=P(A)+P(B)−P(A∩B)."
      ],
      "metadata": {
        "id": "Nw4Tt8o6okuw"
      }
    },
    {
      "cell_type": "code",
      "source": [
        "n = int(input(\"Please choose a number on a die, from 1-6: \"))\n",
        "\n",
        "# probability space for a six-sided die, and event A is the user's input\n",
        "sample_space = [1, 2, 3, 4, 5, 6]\n",
        "event_A = [n]\n",
        "\n",
        "# probability of event given sample space\n",
        "def P(event, space):\n",
        "  return len(event)/len(space)\n",
        "\n",
        "# probability of A\n",
        "P_A = P(event_A, sample_space)\n",
        "# axiom 1\n",
        "\n",
        "print(\"\\nLet S be the sample space of the die:\", sample_space)\n",
        "print(\"Let event A be the number\", n, \"shown after rolling the die.\")\n",
        "print(\"The probability of A occuring is\", P_A, \"which is indeed between 0 and 1 (inclusive).\")\n",
        "\n",
        "# axiom 2\n",
        "P_S = P(sample_space, sample_space)\n",
        "\n",
        "print(\"\\nSince the whole sample space S will always occur, the probability of S, P(S) =\", P_S)\n",
        "\n",
        "# axiom 3\n",
        "# choose an event different from event A\n",
        "event_B = [(n + 3)%6 + 1]\n",
        "P_B = P(event_B, sample_space)\n",
        "\n",
        "# events are disjoint so we need only take their sum\n",
        "P_AorB = P_A + P_B\n",
        "\n",
        "\n",
        "print(\"\\nLet event B be the number\", event_B[0], \"shown after rolling the die. The proability of event B is\", P_B)\n",
        "print(\"The probability of A or B occuring is\", P_AorB, \"which is equal to the P(A) + P(B).\")\n",
        "\n",
        "# axiom 4\n",
        "# probability of A'. create a copy of the sample space and remove event A\n",
        "A_c = sample_space[:]\n",
        "A_c.pop(n)\n",
        "P_A_c = P(A_c, sample_space)\n",
        "\n",
        "print(\"\\nThe event that A will NOT occur is called its complement, A'. We have that P(A\\') =\", P_A_c)\n",
        "print(\"Observe that P(A) + P(A\\') =\", P_A + P_A_c)\n",
        "\n",
        "# axiom 5\n",
        "event_C = [1,2]\n",
        "event_D = [2,3]\n",
        "\n",
        "P_C = P(event_C, sample_space)\n",
        "P_D = P(event_D, sample_space)\n",
        "P_CandD = 1/6\n",
        "\n",
        "print(\"\\nLet event C be the numbers 1 or 2 being shown after rolling the die, and event D be the numbers 2 or 3 being shown.\")\n",
        "print(\"The probability of event C is equal to the probability of event D, that is,\", P_C)\n",
        "print(\"The probability of event C AND event D occuring is\", P_CandD)\n",
        "print(\"The probability that event C OR event D will occur is equal to\" , P_C, \"+\", P_D, \"-\", P_CandD, \"=\", P_C + P_D - P_CandD)\n"
      ],
      "metadata": {
        "colab": {
          "base_uri": "https://localhost:8080/"
        },
        "id": "-eNg8Hc9oowx",
        "outputId": "0d5d8700-3d2d-4b40-bcc7-7024072126ff"
      },
      "execution_count": null,
      "outputs": [
        {
          "output_type": "stream",
          "name": "stdout",
          "text": [
            "Please choose a number on a die, from 1-6: 3\n",
            "\n",
            "Let S be the sample space of the die: [1, 2, 3, 4, 5, 6]\n",
            "Let event A be the number 3 shown after rolling the die.\n",
            "The probability of A occuring is 0.16666666666666666 which is indeed between 0 and 1 (inclusive).\n",
            "\n",
            "Since the whole sample space S will always occur, the probability of S, P(S) = 1.0\n",
            "\n",
            "Let event B be the number 1 shown after rolling the die. The proability of event B is 0.16666666666666666\n",
            "The probability of A or B occuring is 0.3333333333333333 which is equal to the P(A) + P(B).\n",
            "\n",
            "The event that A will NOT occur is called its complement, A'. We have that P(A') = 0.8333333333333334\n",
            "Observe that P(A) + P(A') = 1.0\n",
            "\n",
            "Let event C be the numbers 1 or 2 being shown after rolling the die, and event D be the numbers 2 or 3 being shown.\n",
            "The probability of event C is equal to the probability of event D, that is, 0.3333333333333333\n",
            "The probability of event C AND event D occuring is 0.16666666666666666\n",
            "The probability that event C OR event D will occur is equal to 0.3333333333333333 + 0.3333333333333333 - 0.16666666666666666 = 0.5\n"
          ]
        }
      ]
    },
    {
      "cell_type": "markdown",
      "source": [
        "# 2.2.2 Conditional Probability\n",
        "\n",
        "Let's continue using a die as our sample space. Let event A be the number 1 being shown after rolling the die, and let event B be the numbers 1 or 2 being shown after rolling the dice. It is natural to ask, if event B has already occurred, what are the odds that event A occurs? That is, if we have rolled 1 or 2, what are the chances that we rolled 1? This concept is called conditional probability."
      ],
      "metadata": {
        "id": "6JN9-MQhoneZ"
      }
    },
    {
      "cell_type": "code",
      "source": [
        "n = int(input(\"Please choose a number on a die, from 1-6: \"))\n",
        "\n",
        "sample_space = [1, 2, 3, 4, 5, 6]\n",
        "event_A = [n, (n % 6) + 1]\n",
        "event_B = [(n % 6) + 1, ((n + 1) % 6) + 1]\n",
        "\n",
        "def P(event, space):\n",
        "    return len(set(event) & set(space)) / len(space)\n",
        "\n",
        "def P_intersection(event_A, event_B, space):\n",
        "    return len(set(event_A) & set(event_B)) / len(space)\n",
        "\n",
        "P_A = P(event_A, sample_space)\n",
        "P_B = P(event_B, sample_space)\n",
        "P_AandB = P_intersection(event_A, event_B, sample_space)\n",
        "\n",
        "if P_B > 0:\n",
        "    P_AgivenB = P_AandB / P_B\n",
        "else:\n",
        "    P_AgivenB = 0\n",
        "\n",
        "print(\"\\nLet S be the sample space of the die:\", sample_space)\n",
        "print(\"\\nLet event A be the numbers\", event_A[0], \"or\", event_A[1], \"shown after rolling the die.\")\n",
        "print(\"\\nLet event B be the numbers\", event_B[0], \"or\", event_B[1], \"shown after rolling the die.\")\n",
        "print(\"\\nThe probability of A occurring is:\", P_A)\n",
        "print(\"The probability of B occurring is:\", P_B)\n",
        "print(\"The probability of BOTH A and B occurring P(A ∩ B) is:\", P_AandB)\n",
        "print(\"\\nGiven that B has occurred, the conditional probability of A given B, P(A | B) =\", P_AgivenB)\n",
        "\n",
        "# multiplication rule of P(A and B)\n",
        "P_AandB_m = P_AgivenB * P_B\n",
        "\n",
        "print(\"\\nThe multiplication rule tells us that P(A ∩ B) is equal to P(A | B) * P(B).\")\n",
        "print(\"Indeed, P(A ∩ B) =\", P_AgivenB,\"*\", P_B, \"=\", P_AandB_m)\n",
        "\n",
        "print(\"\\nSince P(A | B) is not equal to P(A), A and B are dependent events. If A and B did not share the number\", (n + 1) % 6, \"they would be independent events.\")\n"
      ],
      "metadata": {
        "colab": {
          "base_uri": "https://localhost:8080/"
        },
        "id": "BMak9RxU9llc",
        "outputId": "54053995-e733-4e73-e047-29fbebb58fda"
      },
      "execution_count": null,
      "outputs": [
        {
          "output_type": "stream",
          "name": "stdout",
          "text": [
            "Please choose a number on a die, from 1-6: 4\n",
            "\n",
            "Let S be the sample space of the die: [1, 2, 3, 4, 5, 6]\n",
            "\n",
            "Let event A be the numbers 4 or 5 shown after rolling the die.\n",
            "\n",
            "Let event B be the numbers 5 or 6 shown after rolling the die.\n",
            "\n",
            "The probability of A occurring is: 0.3333333333333333\n",
            "The probability of B occurring is: 0.3333333333333333\n",
            "The probability of BOTH A and B occurring P(A ∩ B) is: 0.16666666666666666\n",
            "\n",
            "Given that B has occurred, the conditional probability of A given B, P(A | B) = 0.5\n",
            "\n",
            "The multiplication rule tells us that P(A ∩ B) is equal to P(A | B) * P(B).\n",
            "Indeed, P(A ∩ B) = 0.5 * 0.3333333333333333 = 0.16666666666666666\n",
            "\n",
            "Since P(A | B) is not equal to P(A), A and B are dependent events. If A and B did not share the number 5 they would be independent events.\n"
          ]
        }
      ]
    },
    {
      "cell_type": "markdown",
      "source": [
        "# 2.2.3 Discrete Random Variables\n",
        "\n",
        "A discrete random variable refers to a random variable, X, that has a countable (not necessarily finite) set of possible values. For example, a random variable X in the sample space of numbers on a die is discrete, as it has 6 possible values."
      ],
      "metadata": {
        "id": "n5LT7Alj_mMG"
      }
    },
    {
      "cell_type": "code",
      "source": [
        "import math\n",
        "\n",
        "n = int(input(\"Please choose a number on a die, from 1-6: \"))\n",
        "\n",
        "sample_space = [1, 2, 3, 4, 5, 6]\n",
        "\n",
        "#calculate probability mass function\n",
        "def pmf(X, value):\n",
        "    return X.count(value) / len(X)\n",
        "\n",
        "#calculate cumulative distribution function\n",
        "def cdf(X, value):\n",
        "    return sum(pmf(X, v) for v in X if v <= value)\n",
        "\n",
        "def expected_value(X, pmf_X):\n",
        "    return sum(x * pmf_X(x) for x in set(X))\n",
        "\n",
        "def variance(X, pmf_X, mean):\n",
        "    return sum((x - mean) ** 2 * pmf_X(x) for x in set(X))\n",
        "\n",
        "print(\"\\nLet X be a random variable in the sample space of the die, S = [1,2,3,4,5,6].\")\n",
        "\n",
        "pmf_n = pmf(sample_space, n)\n",
        "cdf_n = cdf(sample_space, n)\n",
        "mean_X = expected_value(sample_space, lambda x: pmf(sample_space, x))\n",
        "var_X = variance(sample_space, lambda x: pmf(sample_space, x), mean_X)\n",
        "\n",
        "print(\"\\nLet S be the sample space of the die:\", sample_space)\n",
        "\n",
        "print(\"\\nThe probability mass function (pmf) is the probability that X is equal to our chosen number,\", n)\n",
        "print(\"The pmf of X at\", n, \"is:\", pmf_n)\n",
        "\n",
        "print(\"\\nThe cumulative distribution function (cdf) is the probability that X is less than or equal to\", n)\n",
        "print(\"The cdf of X at\", n, \"is:\", cdf_n)\n",
        "\n",
        "print(\"\\nThe expected value E(X) is the average/mean of X:\", mean_X)\n",
        "print(\"The variance V(X) is a measure of how far possible values of X deviate from E(X):\", var_X)\n",
        "\n",
        "p_binom = math.comb(2, 1) * (1/6) * (5/6)\n",
        "\n",
        "print(\"\\nBinomial distribution simulates the number of times a given outcome will occur given n trials.\")\n",
        "print(\"For a binomial random variable with 2 trials and a fixed number (with 1/6 chance of showing) our number will show exactly once is:\", p_binom)\n",
        "\n",
        "p_poisson = (math.exp(-1) * (1 ** n)) / math.factorial(n)\n",
        "\n",
        "print(\"\\nA Poisson distribution simulates the number of times a given outcome will occur in a fixed interval, with a known average rate µ.\")\n",
        "print(\"For a Poisson random variable with µ = 1, the probability P(X = \" + str(n) +\") is:\", p_poisson)\n"
      ],
      "metadata": {
        "colab": {
          "base_uri": "https://localhost:8080/"
        },
        "id": "oxPPe1p59Oc1",
        "outputId": "f2def0bd-b88f-45f8-b20f-16f6df57f452"
      },
      "execution_count": null,
      "outputs": [
        {
          "output_type": "stream",
          "name": "stdout",
          "text": [
            "Please choose a number on a die, from 1-6: 4\n",
            "\n",
            "Let X be a random variable in the sample space of the die, S = [1,2,3,4,5,6].\n",
            "\n",
            "Let S be the sample space of the die: [1, 2, 3, 4, 5, 6]\n",
            "\n",
            "The probability mass function (pmf) is the probability that X is equal to our chosen number, 4\n",
            "The pmf of X at 4 is: 0.16666666666666666\n",
            "\n",
            "The cumulative distribution function (cdf) is the probability that X is less than or equal to 4\n",
            "The cdf of X at 4 is: 0.6666666666666666\n",
            "\n",
            "The expected value E(X) is the average/mean of X: 3.5\n",
            "The variance V(X) is a measure of how far possible values of X deviate from E(X): 2.9166666666666665\n",
            "\n",
            "Binomial distribution simulates the number of times a given outcome will occur given n trials.\n",
            "For a binomial random variable with 2 trials and a fixed number (with 1/6 chance of showing) our number will show exactly once is: 0.2777777777777778\n",
            "\n",
            "A Poisson distribution simulates the number of times a given outcome will occur in a fixed interval, with a known average rate µ.\n",
            "For a Poisson random variable with µ = 1, the probability P(X = 4) is: 0.015328310048810098\n"
          ]
        }
      ]
    },
    {
      "cell_type": "markdown",
      "source": [
        "# 2.2.4 Continuous Random Variables\n",
        "\n",
        "Unlike discrete random variables, continous random variables can take on any value within a given interval on a number line (thus it can take on uncountably many values). The probability distribution of a continous random variable is therefore represented by a continuous function, which we will see below."
      ],
      "metadata": {
        "id": "_lvuDYfGKzbY"
      }
    },
    {
      "cell_type": "code",
      "source": [
        "import math\n",
        "import numpy as np\n",
        "import matplotlib.pyplot as plt\n",
        "\n",
        "\n",
        "# calculate expected value of an expenonential distirbution given rate lambda\n",
        "def ev_exp(lam):\n",
        "  #inverse of lambda\n",
        "    return 1 / lam\n",
        "\n",
        "# calculate variance for exp. distribution\n",
        "def variance_exp(lam):\n",
        "# inverse of lambda^2\n",
        "    return 1 / (lam ** 2)\n",
        "\n",
        "# pdf of normal distribution\n",
        "def pdf_normal(x, mu, sigma):\n",
        "  #normal dist. formula\n",
        "    return (1 / (math.sqrt(2 * math.pi) * sigma)) * math.exp(-0.5 * ((x - mu) / sigma) ** 2)\n",
        "\n",
        "# ev of normal dist\n",
        "def ev_normal(mu):\n",
        "    return mu\n",
        "\n",
        "# variance of normal dist\n",
        "def variance_normal(sigma):\n",
        "    #square of std. dev\n",
        "    return sigma ** 2\n",
        "\n",
        "#plot normal dist\n",
        "def plot_normal(mu, sigma):\n",
        "    # generate (1000) x values centered around mean mu within 3 std dev\n",
        "    x = np.linspace(mu - 3 * sigma, mu + 3 * sigma, 1000)\n",
        "    # calculate pdf of each x\n",
        "    y = [pdf_normal(val, mu, sigma) for val in x]\n",
        "\n",
        "    plt.plot(x, y)\n",
        "    plt.title('Normal Distribution (µ = {}, σ² = {})'.format(mu, sigma))\n",
        "    plt.xlabel('X')\n",
        "    plt.ylabel('Probability Density')\n",
        "    plt.grid()\n",
        "    plt.show()\n",
        "\n",
        "lam = 1\n",
        "print(\"Suppose we have a random variable that follows an exponential distribution with λ =\", lam)\n",
        "print(\"Expected Value E(X):\", ev_exp(lam))\n",
        "print(\"Variance V(X):\", variance_exp(lam))\n",
        "\n",
        "mu = 0\n",
        "sigma = 1\n",
        "print(\"\\nSuppose we have a normal random variable with µ =\", mu, \"and σ =\", sigma)\n",
        "print(\"Expected Value E(X):\", ev_normal(mu))\n",
        "print(\"Variance V(X):\", variance_normal(sigma))\n",
        "\n",
        "plot_normal(mu, sigma)\n"
      ],
      "metadata": {
        "colab": {
          "base_uri": "https://localhost:8080/",
          "height": 597
        },
        "id": "JQIAFpq1K542",
        "outputId": "e12f9331-b2f7-47f5-af8c-e8440b4089a8"
      },
      "execution_count": null,
      "outputs": [
        {
          "output_type": "stream",
          "name": "stdout",
          "text": [
            "Suppose we have a random variable that follows an exponential distribution with λ = 1\n",
            "Expected Value E(X): 1.0\n",
            "Variance V(X): 1.0\n",
            "\n",
            "Suppose we have a normal random variable with µ = 0 and σ = 1\n",
            "Expected Value E(X): 0\n",
            "Variance V(X): 1\n"
          ]
        },
        {
          "output_type": "display_data",
          "data": {
            "text/plain": [
              "<Figure size 640x480 with 1 Axes>"
            ],
            "image/png": "[encoded data removed]"
          },
          "metadata": {}
        }
      ]
    }
  ]
}