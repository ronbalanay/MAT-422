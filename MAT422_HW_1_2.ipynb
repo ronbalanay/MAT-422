{
  "nbformat": 4,
  "nbformat_minor": 0,
  "metadata": {
    "colab": {
      "provenance": [],
      "toc_visible": true,
      "authorship_tag": "ABX9TyN4Yc+nkcZNmsvyDBJDP0B/",
      "include_colab_link": true
    },
    "kernelspec": {
      "name": "python3",
      "display_name": "Python 3"
    },
    "language_info": {
      "name": "python"
    }
  },
  "cells": [
    {
      "cell_type": "markdown",
      "metadata": {
        "id": "view-in-github",
        "colab_type": "text"
      },
      "source": [
        "<a href=\"https://colab.research.google.com/github/ronbalanay/MAT-422/blob/main/MAT422_HW_1_2.ipynb\" target=\"_parent\"><img src=\"https://colab.research.google.com/assets/colab-badge.svg\" alt=\"Open In Colab\"/></a>"
      ]
    },
    {
      "cell_type": "markdown",
      "source": [
        "## 1.2.1 Linear Spaces"
      ],
      "metadata": {
        "id": "l-8EcAGBt02t"
      }
    },
    {
      "cell_type": "code",
      "execution_count": null,
      "metadata": {
        "colab": {
          "base_uri": "https://localhost:8080/"
        },
        "id": "BSd7PSaXpJ5B",
        "outputId": "9a251985-3dcb-4eb7-8809-fb7b6daca8bd"
      },
      "outputs": [
        {
          "output_type": "stream",
          "name": "stdout",
          "text": [
            "Choose n dimensions (as an integer >= 1): 4\n",
            "\n",
            "Here is a set of 4 vectors:\n",
            "\n",
            "1   0   0   0   \n",
            "0   1   0   0   \n",
            "0   0   1   0   \n",
            "0   0   0   1   \n",
            "\n",
            "These vectors are linearly independent, so they form a vector space of 4 dimensions. More specifically, this is R^4.\n"
          ]
        }
      ],
      "source": [
        "# generate a linearly independent set in n dimensions\n",
        "\n",
        "\n",
        "dimensions = int(input(\"Choose n dimensions (as an integer >= 1): \"))\n",
        "\n",
        "print(\"\\nHere is a set of\", dimensions, \"vectors:\\n\")\n",
        "\n",
        "for i in range(dimensions):\n",
        "  for j in range(dimensions):\n",
        "    if(i == j):\n",
        "      print(1, end = \" \")\n",
        "    else:\n",
        "      print(0, end = \" \")\n",
        "    print(end = \"  \")\n",
        "  print()\n",
        "\n",
        "print(\"\\nThese vectors are linearly independent, so they form a vector space of\", dimensions, \"dimensions. More specifically, this is R^\" + str(dimensions) + \".\")\n"
      ]
    },
    {
      "cell_type": "markdown",
      "source": [
        "# 1.2.2 Orthogonality\n",
        "\n"
      ],
      "metadata": {
        "id": "sPP6A59CuF4I"
      }
    },
    {
      "cell_type": "code",
      "source": [
        "import numpy as np\n",
        "\n",
        "vector_string = input(\"Enter a vector of any size, separating entries by commas (i.e. 1,0,0): \")\n",
        "\n",
        "#convert vector to numpy array\n",
        "vector = np.array([float(x) for x in vector_string.split(',')])\n",
        "\n",
        "print(\"\\nYour vector is \" + str(vector) + \".\")\n",
        "print(\"\\nThe dot product of two vectors is zero iff the vectors are orthogonal.\")\n",
        "print(\"\\nThus, we can find a vector, v, orthogonal to u := \" + str(vector) + \" by solving u ⋅ v = 0.\")\n",
        "\n",
        "#normalize vector\n",
        "vector /= np.linalg.norm(vector)\n",
        "print(\"\\nFirst, we normalize u:\\n\" + str(vector))\n",
        "\n",
        "#find orthonormal vector\n",
        "v = np.random.randn(len(vector))\n",
        "\n",
        "print(\"\\nNow, we generate a random vector:\\n\" + str(v))\n",
        "\n",
        "v -= v.dot(vector) * vector\n",
        "v /= np.linalg.norm(v)\n",
        "\n",
        "print(\"\\nFinally, we compute the projection of v onto u and subtract the result from v to find a vector orthogonal to u:\\n\", v)\n",
        "\n",
        "w = np.dot(vector, v)\n",
        "\n",
        "# w is often close but not exactly the zero vector due to floating point limitations, so if w is sufficiently close to the zero vector we set w to the zero vector.\n",
        "if(np.isclose(w,0)):\n",
        "  w = np.zeros_like(vector)\n",
        "\n",
        "print(\"\\nNow we verify that v and u are orthogonal:\\n\", vector, \"⋅\", v, \"=\", w)"
      ],
      "metadata": {
        "colab": {
          "base_uri": "https://localhost:8080/"
        },
        "id": "q6W6ejDZuLVP",
        "outputId": "29aa5d35-c91b-45a9-89ca-490e648f7d09"
      },
      "execution_count": null,
      "outputs": [
        {
          "output_type": "stream",
          "name": "stdout",
          "text": [
            "Enter a vector of any size, separating entries by commas (i.e. 1,0,0): 1,2,3,0,5\n",
            "\n",
            "Your vector is [1. 2. 3. 0. 5.].\n",
            "\n",
            "The dot product of two vectors is zero iff the vectors are orthogonal.\n",
            "\n",
            "Thus, we can find a vector, v, orthogonal to u := [1. 2. 3. 0. 5.] by solving u ⋅ v = 0.\n",
            "\n",
            "First, we normalize u:\n",
            "[0.16012815 0.32025631 0.48038446 0.         0.80064077]\n",
            "\n",
            "Now, we generate a random vector:\n",
            "[ 0.52206184  0.45190969 -0.84857999  0.78758407  1.20834235]\n",
            "\n",
            "Finally, we compute the projection of v onto u and subtract the result from v to find a vector orthogonal to u:\n",
            " [ 0.24289602  0.12241548 -0.75298784  0.48325369  0.35424731]\n",
            "\n",
            "Now we verify that v and u are orthogonal:\n",
            " [0.16012815 0.32025631 0.48038446 0.         0.80064077] ⋅ [ 0.24289602  0.12241548 -0.75298784  0.48325369  0.35424731] = [0. 0. 0. 0. 0.]\n"
          ]
        }
      ]
    },
    {
      "cell_type": "markdown",
      "source": [
        "# 1.2.3 Gram-Schmidt\n",
        "\n",
        "The technique we used to generate an orthogonal vector in section 1.2.2 above is also known as Gram-Schmidt, and can be used to find a set of orthogonal vectors. In particular, Gram-Schmidt can be used to find an orthonormal basis in certain kinds of vector spaces. We explore this further below.\n"
      ],
      "metadata": {
        "id": "j6hupB7-fC1U"
      }
    },
    {
      "cell_type": "code",
      "source": [
        "import numpy as np\n",
        "\n",
        "print(\"Given a single vector with entries in R^3, we will find an orthnormal basis for R^3.\\n\")\n",
        "vector_string = input(\"Enter a vector of size THREE, separating entries by commas (i.e. 1,0,0): \")\n",
        "vector = np.array([float(x) for x in vector_string.split(',')])\n",
        "\n",
        "print(\"\\nLet u :=\", vector)\n",
        "#normalize vector\n",
        "vector /= np.linalg.norm(vector)\n",
        "print(\"\\nJust as before, we normalize u:\\n\" + str(vector))\n",
        "\n",
        "#find orthonormal vector\n",
        "v = np.random.randn(len(vector))\n",
        "\n",
        "print(\"\\nThen, we generate a random vector, v, in R^3:\\n\" + str(v))\n",
        "\n",
        "# gram-schmidt\n",
        "v -= v.dot(vector) * vector\n",
        "v /= np.linalg.norm(v)\n",
        "\n",
        "print(\"\\nAnd set v = v - proj_u(v) as we did before:\\n\" + str(v))\n",
        "\n",
        "w = np.random.randn(len(vector))\n",
        "print(\"\\nNow, we will use v to find a vector orthogonal to both u and v. We generate a random vector:\\n\" + str(w))\n",
        "\n",
        "w -= w.dot(vector) * vector\n",
        "w -= w.dot(v) * v\n",
        "w /= np.linalg.norm(w)\n",
        "\n",
        "print(\"\\nAnd set w = w - proj_u(w) - proj_v(w):\\n\" + str(w))\n",
        "\n",
        "print(\"\\nOur orthonormal basis for R^3 is:\\n\", vector, \"\\n\", v, \"\\n\", w)\n",
        "\n",
        "print(\"\\nWe shall verify that this set is indeed orthonormal: \")\n",
        "\n",
        "x_1 = np.dot(vector, v)\n",
        "x_2 = np.dot(w, vector)\n",
        "x_3 = np.dot(v, w)\n",
        "\n",
        "if(np.isclose(x_1,0)):\n",
        "  x_1 = np.zeros_like(vector)\n",
        "if(np.isclose(x_2,0)):\n",
        "  x_2 = np.zeros_like(vector)\n",
        "if(np.isclose(x_3,0)):\n",
        "  x_3 = np.zeros_like(vector)\n",
        "\n",
        "\n",
        "print(vector, \"⋅\", v, \"=\", x_1)\n",
        "print(vector, \"⋅\", w, \"=\", x_2)\n",
        "print(v, \"⋅\", w, \"=\", x_3)"
      ],
      "metadata": {
        "colab": {
          "base_uri": "https://localhost:8080/"
        },
        "id": "2vHDlccvwS3P",
        "outputId": "da6bd61e-e1f2-4e52-e0d5-b5522e0e0f68"
      },
      "execution_count": null,
      "outputs": [
        {
          "output_type": "stream",
          "name": "stdout",
          "text": [
            "Given a single vector with entries in R^3, we will find an orthnormal basis for R^3.\n",
            "\n",
            "Enter a vector of size THREE, separating entries by commas (i.e. 1,0,0): 1,2,3,4\n",
            "\n",
            "Let u := [1. 2. 3. 4.]\n",
            "\n",
            "Just as before, we normalize u:\n",
            "[0.18257419 0.36514837 0.54772256 0.73029674]\n",
            "\n",
            "Then, we generate a random vector, v, in R^3:\n",
            "[-0.64258006  0.47384463  1.02521225  0.60178799]\n",
            "\n",
            "And set v = v - proj_u(v) as we did before:\n",
            "[-0.86453182  0.09104096  0.46192915 -0.17583439]\n",
            "\n",
            "Now, we will use v to find a vector orthogonal to both u and v. We generate a random vector:\n",
            "[ 0.44490877 -0.0642168   1.036854   -0.57927755]\n",
            "\n",
            "And set w = w - proj_u(w) - proj_v(w):\n",
            "[ 0.46198588 -0.1255245   0.67624373 -0.55991702]\n",
            "\n",
            "Our orthonormal basis for R^3 is:\n",
            " [0.18257419 0.36514837 0.54772256 0.73029674] \n",
            " [-0.86453182  0.09104096  0.46192915 -0.17583439] \n",
            " [ 0.46198588 -0.1255245   0.67624373 -0.55991702]\n",
            "\n",
            "We shall verify that this set is indeed orthonormal: \n",
            "[0.18257419 0.36514837 0.54772256 0.73029674] ⋅ [-0.86453182  0.09104096  0.46192915 -0.17583439] = [0. 0. 0. 0.]\n",
            "[0.18257419 0.36514837 0.54772256 0.73029674] ⋅ [ 0.46198588 -0.1255245   0.67624373 -0.55991702] = [0. 0. 0. 0.]\n",
            "[-0.86453182  0.09104096  0.46192915 -0.17583439] ⋅ [ 0.46198588 -0.1255245   0.67624373 -0.55991702] = [0. 0. 0. 0.]\n"
          ]
        }
      ]
    },
    {
      "cell_type": "markdown",
      "source": [
        "# 1.2.4 Eigenvalues and Eigenvectors\n",
        "\n",
        "We can think of a matrix as a linear transformation between vector spaces. For example, an m by n matrix, T, with entries in R is a map T: R^n to R^m. If our matrix is square, then we have a linear transformation from a vector space to itself. In general, vectors in our space are transformed to point a different direction with a different magnitude, i.e. T \\* u = v. However, there may exist a subset of vectors in our space whose transformation by T yields only a change in magnitude, while leaving the direction fixed, i.e. T \\* u = c * u, where c is a scalar. Here, u is an eigenvector, and c is its eigenvalue."
      ],
      "metadata": {
        "id": "el5oxdOwohun"
      }
    },
    {
      "cell_type": "code",
      "source": [
        "from numpy import linalg as la\n",
        "\n",
        "matrix_string = input(\"Please enter 4 integers, separating by commas (i.e. 1,2,3,4): \")\n",
        "m = np.array([float(x) for x in matrix_string.split(',')])\n",
        "matrix = np.array([[m[0], m[1]], [m[2], m[3]]])\n",
        "\n",
        "print(\"\\nLet M be a 2x2 matrix with entries in R:\")\n",
        "print(matrix)\n",
        "\n",
        "eigenvalues, eigenvectors = la.eig(matrix)\n",
        "\n",
        "print(\"\\nEigenvalues e_1, e_2:\\n\", eigenvalues)\n",
        "\n",
        "print(\"\\nEigenvectors c_1, c_2:\\n\", eigenvectors)\n",
        "\n",
        "e_1 = eigenvectors[:, 0]\n",
        "e_2 = eigenvectors[:, 1]\n",
        "\n",
        "x_1 = matrix @ e_1\n",
        "x_2 = matrix @ e_2\n",
        "\n",
        "print(\"\\nWe shall verify that these are correct: \")\n",
        "print(\"\\nM * e_1   = \", x_1)\n",
        "print(\"c_1 * e_1 = \", e_1*eigenvalues[0])\n",
        "\n",
        "print(\"\\nM * e_2   = \", x_2)\n",
        "print(\"c_2 * e_2 = \", e_2*eigenvalues[1])"
      ],
      "metadata": {
        "colab": {
          "base_uri": "https://localhost:8080/"
        },
        "id": "EIdnzClDo4Yp",
        "outputId": "fbe59a2a-d52a-4b63-c2cd-f4950eceb139"
      },
      "execution_count": null,
      "outputs": [
        {
          "output_type": "stream",
          "name": "stdout",
          "text": [
            "Please enter 4 integers, separating by commas (i.e. 1,2,3,4): 100,20,910,10248\n",
            "\n",
            "Let M be a 2x2 matrix with entries in R:\n",
            "[[  100.    20.]\n",
            " [  910. 10248.]]\n",
            "\n",
            "Eigenvalues e_1, e_2:\n",
            " [   98.20686001 10249.79313999]\n",
            "\n",
            "Eigenvectors c_1, c_2:\n",
            " [[-0.99600488 -0.00197048]\n",
            " [ 0.08929881 -0.99999806]]\n",
            "\n",
            "We shall verify that these are correct: \n",
            "\n",
            "M * e_1   =  [-97.8145119    8.76975566]\n",
            "c_1 * e_1 =  [-97.8145119    8.76975566]\n",
            "\n",
            "M * e_2   =  [   -20.19700914 -10249.77324108]\n",
            "c_2 * e_2 =  [   -20.19700914 -10249.77324108]\n"
          ]
        }
      ]
    }
  ]
}