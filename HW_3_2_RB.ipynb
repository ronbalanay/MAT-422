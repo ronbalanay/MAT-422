{
  "nbformat": 4,
  "nbformat_minor": 0,
  "metadata": {
    "colab": {
      "provenance": [],
      "authorship_tag": "ABX9TyNcRq8ZHAB8vhXsDdMvVQV9",
      "include_colab_link": true
    },
    "kernelspec": {
      "name": "python3",
      "display_name": "Python 3"
    },
    "language_info": {
      "name": "python"
    }
  },
  "cells": [
    {
      "cell_type": "markdown",
      "metadata": {
        "id": "view-in-github",
        "colab_type": "text"
      },
      "source": [
        "<a href=\"https://colab.research.google.com/github/ronbalanay/MAT-422/blob/main/HW_3_2_RB.ipynb\" target=\"_parent\"><img src=\"https://colab.research.google.com/assets/colab-badge.svg\" alt=\"Open In Colab\"/></a>"
      ]
    },
    {
      "cell_type": "markdown",
      "source": [
        "# 3.2.2 Limits and Continuity"
      ],
      "metadata": {
        "id": "YlnPMCaOqsNy"
      }
    },
    {
      "cell_type": "code",
      "execution_count": null,
      "metadata": {
        "colab": {
          "base_uri": "https://localhost:8080/"
        },
        "id": "CRBz4n6VqlSA",
        "outputId": "c66f7536-9bc8-4115-ad9f-f949332b673b"
      },
      "outputs": [
        {
          "output_type": "stream",
          "name": "stdout",
          "text": [
            "The function f(x) is continuous at x = 2.\n",
            "Maximum value of f(x) on [0, 5]: 25.0\n",
            "Minimum value of f(x) on [0, 5]: 0.0\n"
          ]
        }
      ],
      "source": [
        "import numpy as np\n",
        "\n",
        "# function definition: f(x) = x^2\n",
        "def f(x):\n",
        "    return x**2\n",
        "\n",
        "# check continuity at x = 2\n",
        "x = 2\n",
        "delta = 1e-10  # a very small number for checking the limit\n",
        "left_limit = f(x - delta)  # approaching from the left\n",
        "right_limit = f(x + delta)  # approaching from the right\n",
        "value_at_x = f(x)\n",
        "\n",
        "if np.isclose(left_limit, right_limit, atol=1e-9) and np.isclose(left_limit, value_at_x, atol=1e-9):\n",
        "    print(f\"The function f(x) = x^2 is continuous at x = {x}.\")\n",
        "else:\n",
        "    print(f\"The function f(x) = x^2 is NOT continuous at x = {x}.\")\n",
        "\n",
        "# compute maximum and minimum values of f(x) on the interval [0, 5]\n",
        "interval = np.linspace(0, 5, 1000)\n",
        "f_values = f(interval)\n",
        "\n",
        "max_value = np.max(f_values)\n",
        "min_value = np.min(f_values)\n",
        "\n",
        "print(f\"Maximum value of f(x) on [0, 5]: {max_value}\")\n",
        "print(f\"Minimum value of f(x) on [0, 5]: {min_value}\")\n"
      ]
    },
    {
      "cell_type": "markdown",
      "source": [
        "#3.2.2 Derivatives"
      ],
      "metadata": {
        "id": "skTiLf5MqqRm"
      }
    },
    {
      "cell_type": "code",
      "source": [
        "import numpy as np\n",
        "import matplotlib.pyplot as plt\n",
        "\n",
        "# derivative of a function f at point x0\n",
        "def derivative(f, x0, h=1e-5):\n",
        "    return (f(x0 + h) - f(x0)) / h\n",
        "\n",
        "# example function f(x)\n",
        "def f(x):\n",
        "    return x**2 - 2*x + 1\n",
        "\n",
        "# proposition: Derivative of linear combination of two functions\n",
        "def linear_combination_derivative(f, g, alpha, beta, x):\n",
        "    return alpha * derivative(f, x) + beta * derivative(g, x)\n",
        "\n",
        "# check condition manually before applying Rolle's theorem\n",
        "if f(a) == f(b):\n",
        "    try:\n",
        "        c = rolle_theorem(f, a, b)\n",
        "        if c is not None:\n",
        "            print(f\"Rolle's theorem: f'(c) = 0 at c = {c}\")\n",
        "    except ValueError as e:\n",
        "        print(e)\n",
        "else:\n",
        "    print(f\"Rolle's theorem doesn't apply since f({a}) != f({b})\")\n",
        "\n",
        "# rolle's theorem: Find c where f'(c) = 0 for a continuous function on [a, b] with f(a) = f(b)\n",
        "def rolle_theorem(f, a, b, h=1e-5):\n",
        "    if f(a) != f(b):\n",
        "        raise ValueError(\"f(a) must equal f(b) for Rolle's theorem\")\n",
        "    for x in np.linspace(a, b, 1000):\n",
        "        if abs(derivative(f, x, h)) < h:  # f'(x) = 0\n",
        "            return x\n",
        "    return None\n",
        "\n",
        "# mean value theorem: Find c such that f'(c) = (f(b) - f(a)) / (b - a)\n",
        "def mean_value_theorem(f, a, b):\n",
        "    return (f(b) - f(a)) / (b - a)\n",
        "\n",
        "# example of quadratic function\n",
        "def quadratic_function(x):\n",
        "    return 1/2 * x.T @ np.array([[2, 1], [1, 2]]) @ x + np.array([1, 2]).T @ x + 3\n",
        "\n",
        "# gradient of quadratic function\n",
        "def gradient_quadratic(x, P, q):\n",
        "    return P.T @ x + q\n",
        "\n",
        "# chain rule for the Jacobian of a composition of functions\n",
        "def jacobian_chain_rule(Jg, Jf):\n",
        "    return Jg @ Jf\n",
        "\n",
        "# example usage and visualization\n",
        "x_values = np.linspace(-10, 10, 100)\n",
        "f_values = [f(x) for x in x_values]\n",
        "f_prime_values = [derivative(f, x) for x in x_values]\n",
        "\n",
        "# plotting the function and its derivative\n",
        "plt.plot(x_values, f_values, label=\"f(x)\")\n",
        "plt.plot(x_values, f_prime_values, label=\"f'(x)\", linestyle='--')\n",
        "plt.title(\"Function and its Derivative\")\n",
        "plt.xlabel(\"x\")\n",
        "plt.ylabel(\"f(x), f'(x)\")\n",
        "plt.legend()\n",
        "plt.grid(True)\n",
        "plt.show()\n",
        "\n",
        "# example of Rolle's theorem\n",
        "a, b = 0, 2\n",
        "c = rolle_theorem(f, a, b)\n",
        "if c is not None:\n",
        "    print(f\"Rolle's theorem: f'(c) = 0 at c = {c}\")\n",
        "\n",
        "# example of Mean Value Theorem\n",
        "a, b = 0, 2\n",
        "mean_value_slope = mean_value_theorem(f, a, b)\n",
        "print(f\"Mean value theorem: Slope between f(a) and f(b) is {mean_value_slope}\")\n"
      ],
      "metadata": {
        "colab": {
          "base_uri": "https://localhost:8080/",
          "height": 490
        },
        "id": "MX4hTmzaxs_1",
        "outputId": "3e3c2da9-3d12-479d-a420-ab3f06b2c824"
      },
      "execution_count": null,
      "outputs": [
        {
          "output_type": "display_data",
          "data": {
            "text/plain": [
              "<Figure size 640x480 with 1 Axes>"
            ],
            "image/png": "[encoded data removed]"
          },
          "metadata": {}
        },
        {
          "output_type": "stream",
          "name": "stdout",
          "text": [
            "Mean value theorem: Slope between f(a) and f(b) is 0.0\n"
          ]
        }
      ]
    },
    {
      "cell_type": "markdown",
      "source": [
        "3.2.3 Taylor's Theorem"
      ],
      "metadata": {
        "id": "QqeaWPM5yUhb"
      }
    },
    {
      "cell_type": "code",
      "source": [
        "import numpy as np\n",
        "from scipy.misc import derivative\n",
        "\n",
        "# single-variable taylor approximation (up to second order)\n",
        "def taylor_approx_single(f, f_prime, f_double_prime, a, b):\n",
        "    # taylor approximation formula for m=2\n",
        "    h = b - a\n",
        "    taylor_approx = f(a) + h * f_prime(a) + (h ** 2 / 2) * f_double_prime(a)\n",
        "    return taylor_approx\n",
        "\n",
        "# example single-variable function and its derivatives\n",
        "def f(x):\n",
        "    return np.sin(x)\n",
        "\n",
        "def f_prime(x):\n",
        "    return np.cos(x)\n",
        "\n",
        "def f_double_prime(x):\n",
        "    return -np.sin(x)\n",
        "\n",
        "# example of using taylor approximation\n",
        "a = 0  # point around which the approximation is taken\n",
        "b = 0.5  # point to approximate\n",
        "approximation = taylor_approx_single(f, f_prime, f_double_prime, a, b)\n",
        "print(f\"Taylor approximation of f(x) at x={b}: {approximation}\")\n",
        "print(f\"Exact value of f({b}): {f(b)}\")\n"
      ],
      "metadata": {
        "colab": {
          "base_uri": "https://localhost:8080/"
        },
        "id": "yUqJQ9zlyohV",
        "outputId": "3bb781d9-d173-48fd-b1c6-76c89bcf0c5d"
      },
      "execution_count": null,
      "outputs": [
        {
          "output_type": "stream",
          "name": "stdout",
          "text": [
            "taylor approximation of f(x) at x=0.5: 0.5\n",
            "exact value of f(0.5): 0.479425538604203\n"
          ]
        }
      ]
    }
  ]
}