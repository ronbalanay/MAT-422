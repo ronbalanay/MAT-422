{
  "nbformat": 4,
  "nbformat_minor": 0,
  "metadata": {
    "colab": {
      "provenance": [],
      "authorship_tag": "ABX9TyPkkNed+SFCN+Wj70mlsDGe",
      "include_colab_link": true
    },
    "kernelspec": {
      "name": "python3",
      "display_name": "Python 3"
    },
    "language_info": {
      "name": "python"
    }
  },
  "cells": [
    {
      "cell_type": "markdown",
      "metadata": {
        "id": "view-in-github",
        "colab_type": "text"
      },
      "source": [
        "<a href=\"https://colab.research.google.com/github/ronbalanay/MAT-422/blob/main/MAT422_HW_3_4.ipynb\" target=\"_parent\"><img src=\"https://colab.research.google.com/assets/colab-badge.svg\" alt=\"Open In Colab\"/></a>"
      ]
    },
    {
      "cell_type": "markdown",
      "source": [
        "# 3.4 Logistic Regression\n",
        "\n",
        "Logistic regression models the probability of a binary outcome, which we achieve through the sigmoid function, converting linear combinations of features into probabilities. Here, we define the cross_entropy_loss function to calculate the loss, which reflects the error in our predictions. The gradient function calculates the gradient of the cross-entropy loss, which helps us improve parameters. In each iteration of gradient_descent, we update our parameters by moving in the direction that reduces the loss, controlled by the learning rate. The loop continues until the gradient magnitude falls below a specified tolerance level or reaches the maximum allowed iterations, ensuring we converge to a solution. Finally, we print the matrix A, the vector b representing labels, the optimized parameters x, and the cross-entropy loss at this solution."
      ],
      "metadata": {
        "id": "snPuLLbDQfuR"
      }
    },
    {
      "cell_type": "code",
      "execution_count": 1,
      "metadata": {
        "colab": {
          "base_uri": "https://localhost:8080/"
        },
        "id": "EYT0uBL3PFZu",
        "outputId": "e4af46b6-9935-43c7-d8ba-8f5a92f5513c"
      },
      "outputs": [
        {
          "output_type": "stream",
          "name": "stdout",
          "text": [
            "matrix A:\n",
            " [[0.5 1.5]\n",
            " [1.  1.8]\n",
            " [1.5 2.5]\n",
            " [2.  2.8]\n",
            " [2.5 3.3]]\n",
            "vector b: [0 0 1 1 1]\n",
            "optimal parameters (x): [ 4.39880837 -2.34876124]\n",
            "cross-entropy loss at optimal x: 0.31080199638903494\n"
          ]
        }
      ],
      "source": [
        "import numpy as np\n",
        "\n",
        "# sigmoid function σ(t) = 1 / (1 + e^(-t))\n",
        "def sigmoid(t):\n",
        "    return 1 / (1 + np.exp(-t))\n",
        "\n",
        "# cross-entropy loss ℓ(x; A, b) for logistic regression\n",
        "def cross_entropy_loss(x, A, b):\n",
        "    n = len(b)\n",
        "    predictions = sigmoid(np.dot(A, x))\n",
        "    # calculate the loss with cross-entropy formula\n",
        "    loss = -np.mean(b * np.log(predictions) + (1 - b) * np.log(1 - predictions))\n",
        "    return loss\n",
        "\n",
        "# gradient of the cross-entropy loss function\n",
        "def gradient(x, A, b):\n",
        "    n = len(b)\n",
        "    predictions = sigmoid(np.dot(A, x))\n",
        "    # compute the gradient as derived\n",
        "    grad = -np.dot(A.T, (b - predictions)) / n\n",
        "    return grad\n",
        "\n",
        "# gradient descent algorithm for logistic regression\n",
        "def gradient_descent(A, b, starting_point, learning_rate, tolerance, max_iterations):\n",
        "    x_k = starting_point\n",
        "    for k in range(max_iterations):\n",
        "        grad = gradient(x_k, A, b)\n",
        "        # check if the gradient is close enough to zero\n",
        "        if np.linalg.norm(grad) < tolerance:\n",
        "            break\n",
        "        x_k = x_k - learning_rate * grad  # update x_k using gradient descent step\n",
        "    return x_k\n",
        "\n",
        "# example data (matrix A of features and vector b of labels)\n",
        "A = np.array([[0.5, 1.5], [1.0, 1.8], [1.5, 2.5], [2.0, 2.8], [2.5, 3.3]])  # sample features\n",
        "b = np.array([0, 0, 1, 1, 1])  # sample labels (binary)\n",
        "\n",
        "# parameters for gradient descent\n",
        "starting_point = np.zeros(A.shape[1])  # initial guess (zero vector)\n",
        "learning_rate = 0.1                    # step size\n",
        "tolerance = 1e-6                       # convergence tolerance\n",
        "max_iterations = 1000                  # maximum number of iterations\n",
        "\n",
        "# execute gradient descent\n",
        "optimal_x = gradient_descent(A, b, starting_point, learning_rate, tolerance, max_iterations)\n",
        "\n",
        "# output results\n",
        "print(\"matrix A:\\n\", A)\n",
        "print(\"vector b:\", b)\n",
        "print(\"optimal parameters (x):\", optimal_x)\n",
        "print(\"cross-entropy loss at optimal x:\", cross_entropy_loss(optimal_x, A, b))\n"
      ]
    }
  ]
}